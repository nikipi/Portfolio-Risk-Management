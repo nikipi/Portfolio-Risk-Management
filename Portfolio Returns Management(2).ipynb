{
 "cells": [
  {
   "cell_type": "markdown",
   "metadata": {},
   "source": [
    "# Portfolio Returns Management(2)"
   ]
  },
  {
   "cell_type": "code",
   "execution_count": 1,
   "metadata": {},
   "outputs": [],
   "source": [
    "# protfolio weight(self-set,equal weighted,market cap weights)"
   ]
  },
  {
   "cell_type": "code",
   "execution_count": 2,
   "metadata": {},
   "outputs": [],
   "source": [
    "import pandas as pd\n",
    "import numpy as np\n",
    "import ssl\n",
    "from pandas_datareader import data, wb\n",
    "import matplotlib.pyplot as plt\n",
    "from pandas.util.testing import assert_frame_equal\n",
    "import datetime as dt\n",
    "import pandas_datareader.data as web\n",
    "ssl._create_default_https_context = ssl._create_unverified_context\n",
    "\n",
    "pd.set_option('display.max_columns', None)\n",
    "\n",
    "pd.set_option('display.max_rows',30)\n",
    "\n",
    "pd.set_option('max_colwidth',100)\n",
    "\n",
    "ssl._create_default_https_context = ssl._create_unverified_context\n",
    "\n",
    "pd.set_option('display.max_columns', None)\n",
    "\n",
    "pd.set_option('display.max_rows', None)\n",
    "\n",
    "pd.set_option('max_colwidth',100)"
   ]
  },
  {
   "cell_type": "code",
   "execution_count": 3,
   "metadata": {},
   "outputs": [
    {
     "data": {
      "text/html": [
       "<div>\n",
       "<style scoped>\n",
       "    .dataframe tbody tr th:only-of-type {\n",
       "        vertical-align: middle;\n",
       "    }\n",
       "\n",
       "    .dataframe tbody tr th {\n",
       "        vertical-align: top;\n",
       "    }\n",
       "\n",
       "    .dataframe thead th {\n",
       "        text-align: right;\n",
       "    }\n",
       "</style>\n",
       "<table border=\"1\" class=\"dataframe\">\n",
       "  <thead>\n",
       "    <tr style=\"text-align: right;\">\n",
       "      <th></th>\n",
       "      <th>AAPL</th>\n",
       "      <th>MSFT</th>\n",
       "      <th>XOM</th>\n",
       "      <th>JNJ</th>\n",
       "      <th>JPM</th>\n",
       "      <th>AMZN</th>\n",
       "      <th>GE</th>\n",
       "      <th>FB</th>\n",
       "      <th>T</th>\n",
       "    </tr>\n",
       "    <tr>\n",
       "      <th>Date</th>\n",
       "      <th></th>\n",
       "      <th></th>\n",
       "      <th></th>\n",
       "      <th></th>\n",
       "      <th></th>\n",
       "      <th></th>\n",
       "      <th></th>\n",
       "      <th></th>\n",
       "      <th></th>\n",
       "    </tr>\n",
       "  </thead>\n",
       "  <tbody>\n",
       "    <tr>\n",
       "      <th>2017-01-03</th>\n",
       "      <td>0.002849</td>\n",
       "      <td>0.007081</td>\n",
       "      <td>0.006980</td>\n",
       "      <td>0.005468</td>\n",
       "      <td>0.010894</td>\n",
       "      <td>0.005068</td>\n",
       "      <td>0.002848</td>\n",
       "      <td>0.015732</td>\n",
       "      <td>0.011521</td>\n",
       "    </tr>\n",
       "    <tr>\n",
       "      <th>2017-01-04</th>\n",
       "      <td>-0.001119</td>\n",
       "      <td>-0.004474</td>\n",
       "      <td>-0.011002</td>\n",
       "      <td>-0.001640</td>\n",
       "      <td>0.001844</td>\n",
       "      <td>0.004657</td>\n",
       "      <td>0.000316</td>\n",
       "      <td>0.015660</td>\n",
       "      <td>-0.005811</td>\n",
       "    </tr>\n",
       "    <tr>\n",
       "      <th>2017-01-05</th>\n",
       "      <td>0.005085</td>\n",
       "      <td>0.000000</td>\n",
       "      <td>-0.014907</td>\n",
       "      <td>0.010463</td>\n",
       "      <td>-0.009205</td>\n",
       "      <td>0.030732</td>\n",
       "      <td>-0.005678</td>\n",
       "      <td>0.016682</td>\n",
       "      <td>-0.002806</td>\n",
       "    </tr>\n",
       "    <tr>\n",
       "      <th>2017-01-06</th>\n",
       "      <td>0.011148</td>\n",
       "      <td>0.008668</td>\n",
       "      <td>-0.000565</td>\n",
       "      <td>-0.004792</td>\n",
       "      <td>0.000116</td>\n",
       "      <td>0.019912</td>\n",
       "      <td>0.002855</td>\n",
       "      <td>0.022707</td>\n",
       "      <td>-0.019924</td>\n",
       "    </tr>\n",
       "    <tr>\n",
       "      <th>2017-01-09</th>\n",
       "      <td>0.009159</td>\n",
       "      <td>-0.003183</td>\n",
       "      <td>-0.016497</td>\n",
       "      <td>-0.000172</td>\n",
       "      <td>0.000697</td>\n",
       "      <td>0.001168</td>\n",
       "      <td>-0.004745</td>\n",
       "      <td>0.012074</td>\n",
       "      <td>-0.012585</td>\n",
       "    </tr>\n",
       "  </tbody>\n",
       "</table>\n",
       "</div>"
      ],
      "text/plain": [
       "                AAPL      MSFT       XOM       JNJ       JPM      AMZN  \\\n",
       "Date                                                                     \n",
       "2017-01-03  0.002849  0.007081  0.006980  0.005468  0.010894  0.005068   \n",
       "2017-01-04 -0.001119 -0.004474 -0.011002 -0.001640  0.001844  0.004657   \n",
       "2017-01-05  0.005085  0.000000 -0.014907  0.010463 -0.009205  0.030732   \n",
       "2017-01-06  0.011148  0.008668 -0.000565 -0.004792  0.000116  0.019912   \n",
       "2017-01-09  0.009159 -0.003183 -0.016497 -0.000172  0.000697  0.001168   \n",
       "\n",
       "                  GE        FB         T  \n",
       "Date                                      \n",
       "2017-01-03  0.002848  0.015732  0.011521  \n",
       "2017-01-04  0.000316  0.015660 -0.005811  \n",
       "2017-01-05 -0.005678  0.016682 -0.002806  \n",
       "2017-01-06  0.002855  0.022707 -0.019924  \n",
       "2017-01-09 -0.004745  0.012074 -0.012585  "
      ]
     },
     "execution_count": 3,
     "metadata": {},
     "output_type": "execute_result"
    }
   ],
   "source": [
    "url=r'https://assets.datacamp.com/production/repositories/1546/datasets/fb7165b7270a3721f69abf9ff09b85938d9d1068/Big9Returns2017.csv'\n",
    "df=pd.read_csv(url)\n",
    "df['Date']=pd.to_datetime(df['Date'])\n",
    "df=df.set_index('Date')\n",
    "df.head()"
   ]
  },
  {
   "cell_type": "markdown",
   "metadata": {},
   "source": [
    "## Self-defined portfolio"
   ]
  },
  {
   "cell_type": "code",
   "execution_count": 4,
   "metadata": {},
   "outputs": [
    {
     "data": {
      "text/plain": [
       "0.1782414950606811"
      ]
     },
     "execution_count": 4,
     "metadata": {},
     "output_type": "execute_result"
    }
   ],
   "source": [
    "#define the portfolio weights as a numpy array\n",
    "weights = np.array([0.12, 0.15, 0.08, 0.05, 0.09, 0.10, 0.11, 0.14, 0.16])\n",
    "weights\n",
    "\n",
    "port=df.mul(weights)\n",
    "\n",
    "# Calculate the portfolio returns\n",
    "df['Portfolio'] = port.sum(axis=1)\n",
    "\n",
    "df['Portfolio'].sum(axis=0)\n",
    "\n"
   ]
  },
  {
   "cell_type": "code",
   "execution_count": null,
   "metadata": {},
   "outputs": [],
   "source": []
  },
  {
   "cell_type": "code",
   "execution_count": 5,
   "metadata": {},
   "outputs": [
    {
     "name": "stdout",
     "output_type": "stream",
     "text": [
      "Date\n",
      "2017-01-03    0.008082\n",
      "2017-01-04    0.008245\n",
      "2017-01-05    0.011721\n",
      "2017-01-06    0.016435\n",
      "2017-01-09    0.015041\n",
      "Name: Portfolio, dtype: float64\n"
     ]
    },
    {
     "data": {
      "image/png": "[encoded data removed]",
      "text/plain": [
       "<Figure size 432x288 with 1 Axes>"
      ]
     },
     "metadata": {
      "needs_background": "light"
     },
     "output_type": "display_data"
    }
   ],
   "source": [
    "# Plot the cumulative portfolio returns over time\n",
    "CumulativeReturns = ((1+df[\"Portfolio\"]).cumprod()-1)\n",
    "print(CumulativeReturns.head())\n",
    "CumulativeReturns.plot()\n",
    "plt.show()"
   ]
  },
  {
   "cell_type": "markdown",
   "metadata": {},
   "source": [
    "## Equal weighted portfolios"
   ]
  },
  {
   "cell_type": "code",
   "execution_count": 6,
   "metadata": {},
   "outputs": [
    {
     "name": "stdout",
     "output_type": "stream",
     "text": [
      "0.17199202319251633\n"
     ]
    },
    {
     "data": {
      "text/html": [
       "<div>\n",
       "<style scoped>\n",
       "    .dataframe tbody tr th:only-of-type {\n",
       "        vertical-align: middle;\n",
       "    }\n",
       "\n",
       "    .dataframe tbody tr th {\n",
       "        vertical-align: top;\n",
       "    }\n",
       "\n",
       "    .dataframe thead th {\n",
       "        text-align: right;\n",
       "    }\n",
       "</style>\n",
       "<table border=\"1\" class=\"dataframe\">\n",
       "  <thead>\n",
       "    <tr style=\"text-align: right;\">\n",
       "      <th></th>\n",
       "      <th>AAPL</th>\n",
       "      <th>MSFT</th>\n",
       "      <th>XOM</th>\n",
       "      <th>JNJ</th>\n",
       "      <th>JPM</th>\n",
       "      <th>AMZN</th>\n",
       "      <th>GE</th>\n",
       "      <th>FB</th>\n",
       "      <th>T</th>\n",
       "      <th>Portfolio</th>\n",
       "      <th>Portfolio_EW</th>\n",
       "    </tr>\n",
       "    <tr>\n",
       "      <th>Date</th>\n",
       "      <th></th>\n",
       "      <th></th>\n",
       "      <th></th>\n",
       "      <th></th>\n",
       "      <th></th>\n",
       "      <th></th>\n",
       "      <th></th>\n",
       "      <th></th>\n",
       "      <th></th>\n",
       "      <th></th>\n",
       "      <th></th>\n",
       "    </tr>\n",
       "  </thead>\n",
       "  <tbody>\n",
       "    <tr>\n",
       "      <th>2017-01-03</th>\n",
       "      <td>0.002849</td>\n",
       "      <td>0.007081</td>\n",
       "      <td>0.006980</td>\n",
       "      <td>0.005468</td>\n",
       "      <td>0.010894</td>\n",
       "      <td>0.005068</td>\n",
       "      <td>0.002848</td>\n",
       "      <td>0.015732</td>\n",
       "      <td>0.011521</td>\n",
       "      <td>0.008082</td>\n",
       "      <td>0.007605</td>\n",
       "    </tr>\n",
       "    <tr>\n",
       "      <th>2017-01-04</th>\n",
       "      <td>-0.001119</td>\n",
       "      <td>-0.004474</td>\n",
       "      <td>-0.011002</td>\n",
       "      <td>-0.001640</td>\n",
       "      <td>0.001844</td>\n",
       "      <td>0.004657</td>\n",
       "      <td>0.000316</td>\n",
       "      <td>0.015660</td>\n",
       "      <td>-0.005811</td>\n",
       "      <td>0.000161</td>\n",
       "      <td>-0.000174</td>\n",
       "    </tr>\n",
       "    <tr>\n",
       "      <th>2017-01-05</th>\n",
       "      <td>0.005085</td>\n",
       "      <td>0.000000</td>\n",
       "      <td>-0.014907</td>\n",
       "      <td>0.010463</td>\n",
       "      <td>-0.009205</td>\n",
       "      <td>0.030732</td>\n",
       "      <td>-0.005678</td>\n",
       "      <td>0.016682</td>\n",
       "      <td>-0.002806</td>\n",
       "      <td>0.003448</td>\n",
       "      <td>0.003374</td>\n",
       "    </tr>\n",
       "    <tr>\n",
       "      <th>2017-01-06</th>\n",
       "      <td>0.011148</td>\n",
       "      <td>0.008668</td>\n",
       "      <td>-0.000565</td>\n",
       "      <td>-0.004792</td>\n",
       "      <td>0.000116</td>\n",
       "      <td>0.019912</td>\n",
       "      <td>0.002855</td>\n",
       "      <td>0.022707</td>\n",
       "      <td>-0.019924</td>\n",
       "      <td>0.004660</td>\n",
       "      <td>0.004458</td>\n",
       "    </tr>\n",
       "    <tr>\n",
       "      <th>2017-01-09</th>\n",
       "      <td>0.009159</td>\n",
       "      <td>-0.003183</td>\n",
       "      <td>-0.016497</td>\n",
       "      <td>-0.000172</td>\n",
       "      <td>0.000697</td>\n",
       "      <td>0.001168</td>\n",
       "      <td>-0.004745</td>\n",
       "      <td>0.012074</td>\n",
       "      <td>-0.012585</td>\n",
       "      <td>-0.001372</td>\n",
       "      <td>-0.001565</td>\n",
       "    </tr>\n",
       "  </tbody>\n",
       "</table>\n",
       "</div>"
      ],
      "text/plain": [
       "                AAPL      MSFT       XOM       JNJ       JPM      AMZN  \\\n",
       "Date                                                                     \n",
       "2017-01-03  0.002849  0.007081  0.006980  0.005468  0.010894  0.005068   \n",
       "2017-01-04 -0.001119 -0.004474 -0.011002 -0.001640  0.001844  0.004657   \n",
       "2017-01-05  0.005085  0.000000 -0.014907  0.010463 -0.009205  0.030732   \n",
       "2017-01-06  0.011148  0.008668 -0.000565 -0.004792  0.000116  0.019912   \n",
       "2017-01-09  0.009159 -0.003183 -0.016497 -0.000172  0.000697  0.001168   \n",
       "\n",
       "                  GE        FB         T  Portfolio  Portfolio_EW  \n",
       "Date                                                               \n",
       "2017-01-03  0.002848  0.015732  0.011521   0.008082      0.007605  \n",
       "2017-01-04  0.000316  0.015660 -0.005811   0.000161     -0.000174  \n",
       "2017-01-05 -0.005678  0.016682 -0.002806   0.003448      0.003374  \n",
       "2017-01-06  0.002855  0.022707 -0.019924   0.004660      0.004458  \n",
       "2017-01-09 -0.004745  0.012074 -0.012585  -0.001372     -0.001565  "
      ]
     },
     "execution_count": 6,
     "metadata": {},
     "output_type": "execute_result"
    }
   ],
   "source": [
    "# How many stocks are in your portfolio?\n",
    "numstocks = 9\n",
    "\n",
    "# Create an array of equal weights across all assets\n",
    "portfolio_weights_ew = np.repeat(1/numstocks,numstocks)\n",
    "\n",
    "# Calculate the equally-weighted portfolio returns\n",
    "df['Portfolio_EW']= df.iloc[:, 0:numstocks].mul(portfolio_weights_ew, axis=1).sum(axis=1)\n",
    "print(df['Portfolio_EW'].sum(axis=0))\n",
    "df.head()"
   ]
  },
  {
   "cell_type": "code",
   "execution_count": 7,
   "metadata": {},
   "outputs": [
    {
     "name": "stdout",
     "output_type": "stream",
     "text": [
      "Date\n",
      "2017-01-03    0.007605\n",
      "2017-01-04    0.007429\n",
      "2017-01-05    0.010828\n",
      "2017-01-06    0.015334\n",
      "2017-01-09    0.013746\n",
      "Name: Portfolio_EW, dtype: float64\n"
     ]
    },
    {
     "data": {
      "image/png": "[encoded data removed]",
      "text/plain": [
       "<Figure size 432x288 with 1 Axes>"
      ]
     },
     "metadata": {
      "needs_background": "light"
     },
     "output_type": "display_data"
    }
   ],
   "source": [
    "cumu = ((1+df[\"Portfolio_EW\"]).cumprod()-1)\n",
    "print(cumu.head())\n",
    "cumu.plot()\n",
    "plt.show()\n",
    "# the graph is actually different"
   ]
  },
  {
   "cell_type": "markdown",
   "metadata": {},
   "source": [
    "## market cap weights"
   ]
  },
  {
   "cell_type": "code",
   "execution_count": 8,
   "metadata": {},
   "outputs": [
    {
     "data": {
      "text/plain": [
       "Date\n",
       "2017-01-03    0.007132\n",
       "2017-01-04   -0.000329\n",
       "2017-01-05    0.003903\n",
       "2017-01-06    0.006068\n",
       "2017-01-09   -0.000478\n",
       "Name: Portfolio_MCap, dtype: float64"
      ]
     },
     "execution_count": 8,
     "metadata": {},
     "output_type": "execute_result"
    }
   ],
   "source": [
    "# Create an array of market capitalizations (in billions)\n",
    "market_cap = np.array([601.51, 469.25, 349.5, 310.48, 299.77, 356.94, 268.88, 331.57, 246.09])  \n",
    "\n",
    "# Calculate the market cap weights\n",
    "mcap = market_cap/sum(market_cap)\n",
    "\n",
    "# Calculate the market cap weighted portfolio returns\n",
    "df['Portfolio_MCap']= df.iloc[:, 0:9].mul(mcap, axis=1).sum(axis=1)\n",
    "df['Portfolio_MCap'].head()"
   ]
  },
  {
   "cell_type": "code",
   "execution_count": 9,
   "metadata": {},
   "outputs": [
    {
     "name": "stdout",
     "output_type": "stream",
     "text": [
      "Date\n",
      "2017-01-03    0.007132\n",
      "2017-01-04    0.006801\n",
      "2017-01-05    0.010730\n",
      "2017-01-06    0.016863\n",
      "2017-01-09    0.016376\n",
      "Name: Portfolio_MCap, dtype: float64\n"
     ]
    },
    {
     "data": {
      "text/plain": [
       "<matplotlib.axes._subplots.AxesSubplot at 0x11c235ac8>"
      ]
     },
     "execution_count": 9,
     "metadata": {},
     "output_type": "execute_result"
    },
    {
     "data": {
      "image/png": "[encoded data removed]",
      "text/plain": [
       "<Figure size 432x288 with 1 Axes>"
      ]
     },
     "metadata": {
      "needs_background": "light"
     },
     "output_type": "display_data"
    }
   ],
   "source": [
    "mcap= ((1+df[\"Portfolio_MCap\"]).cumprod()-1)\n",
    "print(mcap.head())\n",
    "mcap.plot()\n",
    "\n",
    "# the graph is actually different"
   ]
  },
  {
   "cell_type": "markdown",
   "metadata": {},
   "source": [
    "## Linear historical relationship between the returns of multiple assets"
   ]
  },
  {
   "cell_type": "code",
   "execution_count": 10,
   "metadata": {},
   "outputs": [
    {
     "name": "stdout",
     "output_type": "stream",
     "text": [
      "                    AAPL      MSFT       XOM       JNJ       JPM      AMZN  \\\n",
      "AAPL            1.000000  0.437430  0.055505  0.038432  0.199914  0.509472   \n",
      "MSFT            0.437430  1.000000  0.084108  0.230215  0.191248  0.621096   \n",
      "XOM             0.055505  0.084108  1.000000  0.121012  0.305926  0.015118   \n",
      "JNJ             0.038432  0.230215  0.121012  1.000000  0.070328  0.052781   \n",
      "JPM             0.199914  0.191248  0.305926  0.070328  1.000000  0.013919   \n",
      "AMZN            0.509472  0.621096  0.015118  0.052781  0.013919  1.000000   \n",
      "GE              0.006766 -0.044827  0.193861  0.067930  0.257401 -0.092188   \n",
      "FB              0.542367  0.543341 -0.046813  0.079391  0.095245  0.653030   \n",
      "T               0.005082 -0.021079  0.197576  0.091622  0.252832 -0.017909   \n",
      "Portfolio       0.653436  0.679864  0.290478  0.232015  0.462009  0.663011   \n",
      "Portfolio_EW    0.641583  0.663890  0.350082  0.309194  0.504123  0.649387   \n",
      "Portfolio_MCap  0.752686  0.723712  0.299451  0.273830  0.441217  0.709364   \n",
      "\n",
      "                      GE        FB         T  Portfolio  Portfolio_EW  \\\n",
      "AAPL            0.006766  0.542367  0.005082   0.653436      0.641583   \n",
      "MSFT           -0.044827  0.543341 -0.021079   0.679864      0.663890   \n",
      "XOM             0.193861 -0.046813  0.197576   0.290478      0.350082   \n",
      "JNJ             0.067930  0.079391  0.091622   0.232015      0.309194   \n",
      "JPM             0.257401  0.095245  0.252832   0.462009      0.504123   \n",
      "AMZN           -0.092188  0.653030 -0.017909   0.663011      0.649387   \n",
      "GE              1.000000 -0.024364  0.292706   0.361306      0.383768   \n",
      "FB             -0.024364  1.000000 -0.024505   0.685890      0.652307   \n",
      "T               0.292706 -0.024505  1.000000   0.427880      0.385211   \n",
      "Portfolio       0.361306  0.685890  0.427880   1.000000      0.991379   \n",
      "Portfolio_EW    0.383768  0.652307  0.385211   0.991379      1.000000   \n",
      "Portfolio_MCap  0.266083  0.700801  0.264897   0.976592      0.980913   \n",
      "\n",
      "                Portfolio_MCap  \n",
      "AAPL                  0.752686  \n",
      "MSFT                  0.723712  \n",
      "XOM                   0.299451  \n",
      "JNJ                   0.273830  \n",
      "JPM                   0.441217  \n",
      "AMZN                  0.709364  \n",
      "GE                    0.266083  \n",
      "FB                    0.700801  \n",
      "T                     0.264897  \n",
      "Portfolio             0.976592  \n",
      "Portfolio_EW          0.980913  \n",
      "Portfolio_MCap        1.000000  \n"
     ]
    }
   ],
   "source": [
    "# Calculate the correlation matrix\n",
    "correlation_matrix = df.corr()\n",
    "\n",
    "# Print the correlation matrix\n",
    "print(correlation_matrix)\n",
    "                        "
   ]
  },
  {
   "cell_type": "code",
   "execution_count": 11,
   "metadata": {},
   "outputs": [
    {
     "data": {
      "image/png": "[encoded data removed]",
      "text/plain": [
       "<Figure size 432x288 with 2 Axes>"
      ]
     },
     "metadata": {
      "needs_background": "light"
     },
     "output_type": "display_data"
    }
   ],
   "source": [
    "import seaborn as sns\n",
    "\n",
    "# Create a heatmap\n",
    "sns.heatmap(correlation_matrix,\n",
    "            annot=True,\n",
    "            cmap=\"YlGnBu\", \n",
    "            linewidths=0.3,\n",
    "            annot_kws={\"size\": 8})\n",
    "\n",
    "# Plot aesthetics\n",
    "plt.xticks(rotation=90)\n",
    "plt.yticks(rotation=0) \n",
    "plt.show()"
   ]
  },
  {
   "cell_type": "code",
   "execution_count": 12,
   "metadata": {},
   "outputs": [],
   "source": [
    "cf=df.drop(['Portfolio','Portfolio_EW','Portfolio_MCap'] ,axis=1)"
   ]
  },
  {
   "cell_type": "markdown",
   "metadata": {},
   "source": [
    "### Stock up some juice of [Covariance matrix](https://www.cnblogs.com/chaosimple/p/3182157.html) (Only Chinese version)"
   ]
  },
  {
   "cell_type": "code",
   "execution_count": 13,
   "metadata": {},
   "outputs": [
    {
     "name": "stdout",
     "output_type": "stream",
     "text": [
      "          AAPL      MSFT       XOM       JNJ       JPM      AMZN        GE  \\\n",
      "AAPL  0.030996  0.011400  0.001093  0.000774  0.005716  0.018805  0.000236   \n",
      "MSFT  0.011400  0.021912  0.001392  0.003899  0.004597  0.019275 -0.001315   \n",
      "XOM   0.001093  0.001392  0.012500  0.001548  0.005554  0.000354  0.004295   \n",
      "JNJ   0.000774  0.003899  0.001548  0.013092  0.001307  0.001266  0.001540   \n",
      "JPM   0.005716  0.004597  0.005554  0.001307  0.026371  0.000474  0.008283   \n",
      "AMZN  0.018805  0.019275  0.000354  0.001266  0.000474  0.043954 -0.003830   \n",
      "GE    0.000236 -0.001315  0.004295  0.001540  0.008283 -0.003830  0.039270   \n",
      "FB    0.016243  0.013682 -0.000890  0.001545  0.002631  0.023290 -0.000821   \n",
      "T     0.000152 -0.000530  0.003751  0.001780  0.006972 -0.000638  0.009849   \n",
      "\n",
      "            FB         T  \n",
      "AAPL  0.016243  0.000152  \n",
      "MSFT  0.013682 -0.000530  \n",
      "XOM  -0.000890  0.003751  \n",
      "JNJ   0.001545  0.001780  \n",
      "JPM   0.002631  0.006972  \n",
      "AMZN  0.023290 -0.000638  \n",
      "GE   -0.000821  0.009849  \n",
      "FB    0.028937 -0.000708  \n",
      "T    -0.000708  0.028833  \n"
     ]
    }
   ],
   "source": [
    "# Calculate the covariance matrix\n",
    "cov_mat = cf.cov()\n",
    "\n",
    "# Annualize the co-variance matrix\n",
    "cov_mat_annual = cov_mat*252\n",
    "\n",
    "# Print the annualized co-variance matrix\n",
    "print(cov_mat_annual)"
   ]
  },
  {
   "cell_type": "markdown",
   "metadata": {},
   "source": [
    "## portfolio volatility"
   ]
  },
  {
   "cell_type": "code",
   "execution_count": 14,
   "metadata": {},
   "outputs": [
    {
     "name": "stdout",
     "output_type": "stream",
     "text": [
      "0.08931417642713807\n",
      "0.08402023049667981\n",
      "0.0899031735727904\n"
     ]
    }
   ],
   "source": [
    "# Import numpy as np\n",
    "import numpy as np\n",
    "\n",
    "# Calculate the portfolio standard deviation\n",
    "weights = np.array([0.12, 0.15, 0.08, 0.05, 0.09, 0.10, 0.11, 0.14, 0.16])\n",
    "volatility = np.sqrt(np.dot(weights.T, np.dot(cov_mat_annual, weights)))\n",
    "print(volatility)\n",
    "\n",
    "numstocks = 9\n",
    "\n",
    "# Create an array of equal weights across all assets\n",
    "ew = np.repeat(1/numstocks,numstocks)\n",
    "\n",
    "volatility1 = np.sqrt(np.dot(ew.T, np.dot(cov_mat_annual, ew)))\n",
    "print(volatility1)\n",
    "\n",
    "\n",
    "market_cap = np.array([601.51, 469.25, 349.5, 310.48, 299.77, 356.94, 268.88, 331.57, 246.09])\n",
    "mcap = market_cap/sum(market_cap)\n",
    "volatility2= np.sqrt(np.dot(mcap.T, np.dot(cov_mat_annual, mcap)))\n",
    "print(volatility2)\n"
   ]
  },
  {
   "cell_type": "markdown",
   "metadata": {},
   "source": [
    "## Sharpe ratios"
   ]
  },
  {
   "cell_type": "code",
   "execution_count": 15,
   "metadata": {},
   "outputs": [],
   "source": [
    "risk_free=0\n",
    "\n",
    "\n",
    "# Compare these three portfolio "
   ]
  },
  {
   "cell_type": "code",
   "execution_count": 16,
   "metadata": {},
   "outputs": [
    {
     "name": "stdout",
     "output_type": "stream",
     "text": [
      "0.1782414950606811\n",
      "0.17199202319251633\n",
      "0.21872635685217753\n"
     ]
    }
   ],
   "source": [
    "print(df['Portfolio'].sum(axis=0))\n",
    "print(df['Portfolio_EW'].sum(axis=0))\n",
    "print(df['Portfolio_MCap'].sum(axis=0))"
   ]
  },
  {
   "cell_type": "code",
   "execution_count": 17,
   "metadata": {},
   "outputs": [
    {
     "data": {
      "text/html": [
       "<div>\n",
       "<style scoped>\n",
       "    .dataframe tbody tr th:only-of-type {\n",
       "        vertical-align: middle;\n",
       "    }\n",
       "\n",
       "    .dataframe tbody tr th {\n",
       "        vertical-align: top;\n",
       "    }\n",
       "\n",
       "    .dataframe thead th {\n",
       "        text-align: right;\n",
       "    }\n",
       "</style>\n",
       "<table border=\"1\" class=\"dataframe\">\n",
       "  <thead>\n",
       "    <tr style=\"text-align: right;\">\n",
       "      <th></th>\n",
       "      <th>Return</th>\n",
       "      <th>Volatility</th>\n",
       "    </tr>\n",
       "  </thead>\n",
       "  <tbody>\n",
       "    <tr>\n",
       "      <th>0</th>\n",
       "      <td>0.178241</td>\n",
       "      <td>0.089314</td>\n",
       "    </tr>\n",
       "    <tr>\n",
       "      <th>1</th>\n",
       "      <td>0.171992</td>\n",
       "      <td>0.084020</td>\n",
       "    </tr>\n",
       "    <tr>\n",
       "      <th>2</th>\n",
       "      <td>0.218726</td>\n",
       "      <td>0.089903</td>\n",
       "    </tr>\n",
       "  </tbody>\n",
       "</table>\n",
       "</div>"
      ],
      "text/plain": [
       "     Return  Volatility\n",
       "0  0.178241    0.089314\n",
       "1  0.171992    0.084020\n",
       "2  0.218726    0.089903"
      ]
     },
     "execution_count": 17,
     "metadata": {},
     "output_type": "execute_result"
    }
   ],
   "source": [
    "combine=pd.DataFrame({'Return':[0.1782414950606811,\n",
    "0.17199202319251633,\n",
    "0.21872635685217753],'Volatility':[0.08931417642713807,\n",
    "0.08402023049667981,\n",
    "0.0899031735727904]})\n",
    "combine"
   ]
  },
  {
   "cell_type": "code",
   "execution_count": 18,
   "metadata": {},
   "outputs": [
    {
     "name": "stdout",
     "output_type": "stream",
     "text": [
      "min    1.995669\n",
      "max    2.432910\n",
      "Name: Sharpe, dtype: float64\n"
     ]
    }
   ],
   "source": [
    "# Calculate the Sharpe Ratio for each asset\n",
    "combine['Sharpe'] = (combine['Return'] - risk_free) / combine['Volatility']\n",
    "\n",
    "# Print the range of Sharpe ratios\n",
    "print(combine['Sharpe'].describe()[['min', 'max']])"
   ]
  },
  {
   "cell_type": "code",
   "execution_count": 19,
   "metadata": {},
   "outputs": [
    {
     "name": "stdout",
     "output_type": "stream",
     "text": [
      "     Return  Volatility    Sharpe\n",
      "0  0.178241    0.089314  1.995669\n",
      "1  0.171992    0.084020  2.047031\n",
      "2  0.218726    0.089903  2.432910\n",
      "min    1.995669\n",
      "max    2.432910\n",
      "Name: Sharpe, dtype: float64\n"
     ]
    },
    {
     "data": {
      "text/html": [
       "<div>\n",
       "<style scoped>\n",
       "    .dataframe tbody tr th:only-of-type {\n",
       "        vertical-align: middle;\n",
       "    }\n",
       "\n",
       "    .dataframe tbody tr th {\n",
       "        vertical-align: top;\n",
       "    }\n",
       "\n",
       "    .dataframe thead th {\n",
       "        text-align: right;\n",
       "    }\n",
       "</style>\n",
       "<table border=\"1\" class=\"dataframe\">\n",
       "  <thead>\n",
       "    <tr style=\"text-align: right;\">\n",
       "      <th></th>\n",
       "      <th>Return</th>\n",
       "      <th>Volatility</th>\n",
       "      <th>Sharpe</th>\n",
       "    </tr>\n",
       "  </thead>\n",
       "  <tbody>\n",
       "    <tr>\n",
       "      <th>2</th>\n",
       "      <td>0.218726</td>\n",
       "      <td>0.089903</td>\n",
       "      <td>2.432910</td>\n",
       "    </tr>\n",
       "    <tr>\n",
       "      <th>1</th>\n",
       "      <td>0.171992</td>\n",
       "      <td>0.084020</td>\n",
       "      <td>2.047031</td>\n",
       "    </tr>\n",
       "    <tr>\n",
       "      <th>0</th>\n",
       "      <td>0.178241</td>\n",
       "      <td>0.089314</td>\n",
       "      <td>1.995669</td>\n",
       "    </tr>\n",
       "  </tbody>\n",
       "</table>\n",
       "</div>"
      ],
      "text/plain": [
       "     Return  Volatility    Sharpe\n",
       "2  0.218726    0.089903  2.432910\n",
       "1  0.171992    0.084020  2.047031\n",
       "0  0.178241    0.089314  1.995669"
      ]
     },
     "execution_count": 19,
     "metadata": {},
     "output_type": "execute_result"
    }
   ],
   "source": [
    "# Calculate the Sharpe Ratio for each asset\n",
    "combine['Sharpe'] = (combine['Return'] - risk_free) / combine['Volatility']\n",
    "print(combine)\n",
    "# Print the range of Sharpe ratios\n",
    "print(combine['Sharpe'].describe()[['min', 'max']])\n",
    "\n",
    "# Sort the portfolios by Sharpe ratio\n",
    "sorted = combine.sort_values(by=['Sharpe'], ascending=False)\n",
    "sorted"
   ]
  },
  {
   "cell_type": "markdown",
   "metadata": {},
   "source": [
    "## Capital Assest Price Model"
   ]
  },
  {
   "cell_type": "code",
   "execution_count": 20,
   "metadata": {},
   "outputs": [
    {
     "data": {
      "text/html": [
       "<div>\n",
       "<style scoped>\n",
       "    .dataframe tbody tr th:only-of-type {\n",
       "        vertical-align: middle;\n",
       "    }\n",
       "\n",
       "    .dataframe tbody tr th {\n",
       "        vertical-align: top;\n",
       "    }\n",
       "\n",
       "    .dataframe thead th {\n",
       "        text-align: right;\n",
       "    }\n",
       "</style>\n",
       "<table border=\"1\" class=\"dataframe\">\n",
       "  <thead>\n",
       "    <tr style=\"text-align: right;\">\n",
       "      <th></th>\n",
       "      <th>Date</th>\n",
       "      <th>Portfolio</th>\n",
       "      <th>Market_Excess</th>\n",
       "      <th>SMB</th>\n",
       "      <th>HML</th>\n",
       "      <th>RMW</th>\n",
       "      <th>CMA</th>\n",
       "      <th>RF</th>\n",
       "    </tr>\n",
       "  </thead>\n",
       "  <tbody>\n",
       "    <tr>\n",
       "      <th>0</th>\n",
       "      <td>2013-01-03</td>\n",
       "      <td>-0.005066</td>\n",
       "      <td>-0.0014</td>\n",
       "      <td>0.0014</td>\n",
       "      <td>0.0004</td>\n",
       "      <td>0.0020</td>\n",
       "      <td>0.0023</td>\n",
       "      <td>0.0</td>\n",
       "    </tr>\n",
       "    <tr>\n",
       "      <th>1</th>\n",
       "      <td>2013-01-04</td>\n",
       "      <td>0.004024</td>\n",
       "      <td>0.0055</td>\n",
       "      <td>0.0019</td>\n",
       "      <td>0.0043</td>\n",
       "      <td>-0.0037</td>\n",
       "      <td>0.0027</td>\n",
       "      <td>0.0</td>\n",
       "    </tr>\n",
       "    <tr>\n",
       "      <th>2</th>\n",
       "      <td>2013-01-07</td>\n",
       "      <td>0.004421</td>\n",
       "      <td>-0.0031</td>\n",
       "      <td>-0.0009</td>\n",
       "      <td>-0.0037</td>\n",
       "      <td>-0.0013</td>\n",
       "      <td>-0.0012</td>\n",
       "      <td>0.0</td>\n",
       "    </tr>\n",
       "    <tr>\n",
       "      <th>3</th>\n",
       "      <td>2013-01-08</td>\n",
       "      <td>-0.004659</td>\n",
       "      <td>-0.0027</td>\n",
       "      <td>0.0004</td>\n",
       "      <td>-0.0007</td>\n",
       "      <td>-0.0012</td>\n",
       "      <td>0.0009</td>\n",
       "      <td>0.0</td>\n",
       "    </tr>\n",
       "    <tr>\n",
       "      <th>4</th>\n",
       "      <td>2013-01-09</td>\n",
       "      <td>0.004636</td>\n",
       "      <td>0.0034</td>\n",
       "      <td>0.0024</td>\n",
       "      <td>-0.0041</td>\n",
       "      <td>-0.0007</td>\n",
       "      <td>-0.0015</td>\n",
       "      <td>0.0</td>\n",
       "    </tr>\n",
       "  </tbody>\n",
       "</table>\n",
       "</div>"
      ],
      "text/plain": [
       "         Date  Portfolio  Market_Excess     SMB     HML     RMW     CMA   RF\n",
       "0  2013-01-03  -0.005066        -0.0014  0.0014  0.0004  0.0020  0.0023  0.0\n",
       "1  2013-01-04   0.004024         0.0055  0.0019  0.0043 -0.0037  0.0027  0.0\n",
       "2  2013-01-07   0.004421        -0.0031 -0.0009 -0.0037 -0.0013 -0.0012  0.0\n",
       "3  2013-01-08  -0.004659        -0.0027  0.0004 -0.0007 -0.0012  0.0009  0.0\n",
       "4  2013-01-09   0.004636         0.0034  0.0024 -0.0041 -0.0007 -0.0015  0.0"
      ]
     },
     "execution_count": 20,
     "metadata": {},
     "output_type": "execute_result"
    }
   ],
   "source": [
    "url=r'https://assets.datacamp.com/production/repositories/1546/datasets/3d9b734fea954b629d2477ef48c36525dfecf6e0/FamaFrenchFactors.csv'\n",
    "capm=pd.read_csv(url)\n",
    "capm.head()\n"
   ]
  },
  {
   "cell_type": "code",
   "execution_count": 21,
   "metadata": {},
   "outputs": [
    {
     "data": {
      "image/png": "[encoded data removed]",
      "text/plain": [
       "<Figure size 432x288 with 1 Axes>"
      ]
     },
     "metadata": {
      "needs_background": "light"
     },
     "output_type": "display_data"
    }
   ],
   "source": [
    "# Plot returns vs excess returns\n",
    "CumulativeReturns = ((1+capm[['Portfolio']]).cumprod()-1)\n",
    "CumulativeReturns.plot()\n",
    "plt.show()"
   ]
  },
  {
   "cell_type": "code",
   "execution_count": 22,
   "metadata": {},
   "outputs": [
    {
     "name": "stdout",
     "output_type": "stream",
     "text": [
      "5.726320572793939e-05\n",
      "5.8803350882118946e-05\n",
      "0.9738085477940358\n"
     ]
    }
   ],
   "source": [
    "# Calculate the co-variance matrix between Portfolio_Excess and Market_Excess\n",
    "cov_matrix = capm[['Portfolio', 'Market_Excess']].cov()\n",
    "\n",
    "# Extract the co-variance co-efficient\n",
    "covariance_coefficient = cov_matrix.iloc[0, 1]\n",
    "print(covariance_coefficient)\n",
    "\n",
    "# Calculate the benchmark variance\n",
    "market_var = capm['Market_Excess'].var()\n",
    "print(market_var)\n",
    "\n",
    "# Calculating the portfolio market beta\n",
    "beta = covariance_coefficient/market_var\n",
    "print(beta)"
   ]
  },
  {
   "cell_type": "code",
   "execution_count": 26,
   "metadata": {},
   "outputs": [],
   "source": [
    "# Import statsmodels.formula.api\n",
    "import statsmodels.api as sm\n"
   ]
  },
  {
   "cell_type": "code",
   "execution_count": 27,
   "metadata": {},
   "outputs": [],
   "source": [
    "X=capm['Market_Excess']\n",
    "y=capm['Portfolio']\n",
    "\n",
    "CAPM_model = sm.OLS(y,sm.add_constant(X))"
   ]
  },
  {
   "cell_type": "code",
   "execution_count": 28,
   "metadata": {},
   "outputs": [
    {
     "name": "stdout",
     "output_type": "stream",
     "text": [
      "0.794338709091388\n"
     ]
    },
    {
     "data": {
      "text/plain": [
       "const            0.000224\n",
       "Market_Excess    0.973809\n",
       "dtype: float64"
      ]
     },
     "execution_count": 28,
     "metadata": {},
     "output_type": "execute_result"
    }
   ],
   "source": [
    "# Print adjusted r-squared of the fitted regression\n",
    "CAPM_fit = CAPM_model.fit()\n",
    "print(CAPM_fit.rsquared_adj)\n",
    "\n",
    "# Extract the beta\n",
    "regression_beta = CAPM_fit.params\n",
    "regression_beta "
   ]
  },
  {
   "cell_type": "code",
   "execution_count": null,
   "metadata": {},
   "outputs": [],
   "source": []
  }
 ],
 "metadata": {
  "kernelspec": {
   "display_name": "Python 3",
   "language": "python",
   "name": "python3"
  },
  "language_info": {
   "codemirror_mode": {
    "name": "ipython",
    "version": 3
   },
   "file_extension": ".py",
   "mimetype": "text/x-python",
   "name": "python",
   "nbconvert_exporter": "python",
   "pygments_lexer": "ipython3",
   "version": "3.7.2"
  }
 },
 "nbformat": 4,
 "nbformat_minor": 2
}
